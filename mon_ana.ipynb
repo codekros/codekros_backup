{
 "cells": [
  {
   "cell_type": "code",
   "execution_count": 9,
   "id": "afee0374",
   "metadata": {},
   "outputs": [
    {
     "name": "stdout",
     "output_type": "stream",
     "text": [
      "Analysis complete. Results saved to NIFTYBANK_Analysis_Output.xlsx\n"
     ]
    }
   ],
   "source": [
    "import pandas as pd\n",
    "from datetime import datetime\n",
    "\n",
    "# Load data\n",
    "file_path = 'Historical_Data_v2.xlsx'\n",
    "sheet_name = 'Historical_Data_Values'\n",
    "df = pd.read_excel(file_path, sheet_name=sheet_name)\n",
    "\n",
    "# Convert 'Date' column to datetime\n",
    "df['Date'] = pd.to_datetime(df['Date'], dayfirst=True, errors='coerce')\n",
    "\n",
    "# Filter stock code and date range\n",
    "df = df[\n",
    "    (df['Stock_Code_Yahoo'] == 'NIFTYBANK') &\n",
    "    (df['Date'] >= datetime(2023, 1, 1)) &\n",
    "    (df['Date'] <= datetime(2025, 5, 16)) &\n",
    "    (df['Close'] != 0)\n",
    "]\n",
    "\n",
    "# Group by year-month and get first and last close price of each month\n",
    "df['YearMonth'] = df['Date'].dt.to_period('M')\n",
    "\n",
    "monthly_data = df.groupby('YearMonth')['Close'].agg(['first', 'last']).reset_index()\n",
    "\n",
    "# Calculate percentage move for each month\n",
    "monthly_data['Percent_Move'] = ((monthly_data['last'] - monthly_data['first']) / monthly_data['first']) * 100\n",
    "\n",
    "# Function to categorize percentage moves into buckets\n",
    "def categorize_move(pct):\n",
    "    if pct >= 25:\n",
    "        return 'crossed_25'\n",
    "    elif 20 <= pct < 25:\n",
    "        return 'crossed_20_25'\n",
    "    elif 15 <= pct < 20:\n",
    "        return 'crossed_15_20'\n",
    "    elif 10 <= pct < 15:\n",
    "        return 'crossed_10_15'\n",
    "    elif 5 <= pct < 10:\n",
    "        return 'crossed_5_10'\n",
    "    elif 0 <= pct < 5:\n",
    "        return 'crossed_0_5'\n",
    "    elif -5 < pct < 0:\n",
    "        return 'neg_crossed_0_5'\n",
    "    elif -10 < pct <= -5:\n",
    "        return 'neg_crossed_5_10'\n",
    "    elif -15 < pct <= -10:\n",
    "        return 'neg_crossed_10_15'\n",
    "    elif -20 < pct <= -15:\n",
    "        return 'neg_crossed_15_20'\n",
    "    elif -25 < pct <= -20:\n",
    "        return 'neg_crossed_20_25'\n",
    "    else:  # pct <= -25\n",
    "        return 'neg_crossed_25'\n",
    "\n",
    "monthly_data['Threshold_Category'] = monthly_data['Percent_Move'].apply(categorize_move)\n",
    "\n",
    "# Convert YearMonth back to string (YYYY-MM)\n",
    "monthly_data['YearMonth'] = monthly_data['YearMonth'].astype(str)\n",
    "\n",
    "# Save full results to new Excel\n",
    "output_file = 'NIFTYBANK_Analysis_Output.xlsx'\n",
    "monthly_data.to_excel(output_file, index=False)\n",
    "\n",
    "print(f\"Analysis complete. Results saved to {output_file}\")\n"
   ]
  },
  {
   "cell_type": "code",
   "execution_count": null,
   "id": "3c8ebeac",
   "metadata": {},
   "outputs": [],
   "source": []
  }
 ],
 "metadata": {
  "kernelspec": {
   "display_name": "base",
   "language": "python",
   "name": "python3"
  },
  "language_info": {
   "codemirror_mode": {
    "name": "ipython",
    "version": 3
   },
   "file_extension": ".py",
   "mimetype": "text/x-python",
   "name": "python",
   "nbconvert_exporter": "python",
   "pygments_lexer": "ipython3",
   "version": "3.12.7"
  }
 },
 "nbformat": 4,
 "nbformat_minor": 5
}
