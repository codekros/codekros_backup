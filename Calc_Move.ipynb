{
 "cells": [
  {
   "cell_type": "code",
   "execution_count": 47,
   "id": "5890d76a",
   "metadata": {},
   "outputs": [],
   "source": [
    "import pandas as pd\n",
    "import numpy as np\n",
    "from pandas.tseries.offsets import MonthEnd"
   ]
  },
  {
   "cell_type": "code",
   "execution_count": 48,
   "id": "b3a46121",
   "metadata": {},
   "outputs": [],
   "source": [
    "# This function calculates the last Thursday of the given month\n",
    "def get_expiry(date):\n",
    "    end_of_month = date + MonthEnd(0)  # Get the last day of the month\n",
    "    for i in range(7):  # Check the last 7 days of the month\n",
    "        candidate = end_of_month - pd.Timedelta(days=i)\n",
    "        if candidate.weekday() == 3:  # If it's a Thursday (weekday 3)\n",
    "            return candidate\n",
    "    return None  # Fallback \n"
   ]
  },
  {
   "cell_type": "code",
   "execution_count": null,
   "id": "7acbc0a0",
   "metadata": {},
   "outputs": [],
   "source": [
    "# Loading the CSV file\n",
    "df = pd.read_csv(\"RELIANCE.NS.csv\")\n",
    "\n",
    "# Converting 'Date' column to datetime and drop any rows where it's invalid\n",
    "df['Date'] = pd.to_datetime(df['Date'], errors='coerce')\n",
    "df.dropna(subset=['Date'], inplace=True)\n",
    "\n",
    "# Sort by date to ensure data is in correct time order\n",
    "df.sort_values('Date', inplace=True)\n",
    "\n",
    "# Create a new 'Month' column to group by month easily (e.g., \"2024-05\")\n",
    "df[\"Month\"] = df[\"Date\"].dt.to_period(\"M\").astype(str)"
   ]
  },
  {
   "cell_type": "code",
   "execution_count": 51,
   "id": "6fe1fd65",
   "metadata": {},
   "outputs": [],
   "source": [
    "# Extract unique months from the data\n",
    "unique_months = df[\"Month\"].unique()\n",
    "\n",
    "# Create a new DataFrame to store month-to-expiry mapping\n",
    "expiry_df = pd.DataFrame(unique_months, columns=[\"Month\"])\n",
    "\n",
    "# Calculate the expiry date for each month (last Thursday)\n",
    "expiry_df[\"Expiry\"] = expiry_df[\"Month\"].apply(lambda m: get_expiry(pd.to_datetime(m + \"-01\")))\n",
    "\n",
    "# Merge expiry date back into the main DataFrame\n",
    "df = df.merge(expiry_df, on=\"Month\", how=\"left\")\n",
    "df = df.drop(columns=[\"Expiry_x\"])\n",
    "df = df.rename(columns={\"Expiry_y\": \"Expiry\"})\n"
   ]
  },
  {
   "cell_type": "code",
   "execution_count": 62,
   "id": "b33d429e",
   "metadata": {},
   "outputs": [
    {
     "name": "stdout",
     "output_type": "stream",
     "text": [
      "  Buying Date Last Expiry Next Expiry Start Date   Absolute Move   Absolute % \n",
      "0  2025-05-02  2025-04-24  2025-05-29  2025-03-28            26.5     2.078268\n"
     ]
    },
    {
     "name": "stderr",
     "output_type": "stream",
     "text": [
      "C:\\Users\\hp\\AppData\\Local\\Temp\\ipykernel_18852\\403801510.py:11: SettingWithCopyWarning: \n",
      "A value is trying to be set on a copy of a slice from a DataFrame.\n",
      "Try using .loc[row_indexer,col_indexer] = value instead\n",
      "\n",
      "See the caveats in the documentation: https://pandas.pydata.org/pandas-docs/stable/user_guide/indexing.html#returning-a-view-versus-a-copy\n",
      "  df['Close'] = pd.to_numeric(df['Close'], errors='coerce')\n"
     ]
    }
   ],
   "source": [
    "def calculate_move_part1(df, buying_date_str):\n",
    "    # Convert the buying date to datetime\n",
    "    buying_date = pd.to_datetime(buying_date_str)\n",
    "    \n",
    "    # Convert 'Date' and 'Expiry' to datetime\n",
    "    df['Date'] = pd.to_datetime(df['Date'], errors='coerce')\n",
    "    df['Expiry'] = pd.to_datetime(df['Expiry'], errors='coerce')\n",
    "\n",
    "    # Clean data by dropping rows with missing essential values\n",
    "    df = df.dropna(subset=['Date', 'Expiry'])\n",
    "    df['Close'] = pd.to_numeric(df['Close'], errors='coerce')\n",
    "    df = df.dropna(subset=['Close'])\n",
    "\n",
    "    # Identify the next expiry (the expiry after the buying date)\n",
    "    next_expiry = df[df['Date'] >= buying_date]['Expiry'].min()\n",
    "\n",
    "    # Calculate the number of days between buying date and next expiry\n",
    "    days_diff = (next_expiry - buying_date).days  # This is the duration between the buying date and next expiry\n",
    "    \n",
    "    # Now, calculate the start date for Part 1 by backtracking the number of days from the last expiry\n",
    "    last_expiry = df[df['Expiry'] < buying_date]['Expiry'].max()  # The expiry date before the buying date\n",
    "    \n",
    "    if pd.isna(last_expiry) or pd.isna(next_expiry):\n",
    "        return {\"Error\": \"Expiry data not found for the given dates.\"}\n",
    "    \n",
    "    # Calculate the start date for Part 1 by going back 'days_diff' from the last expiry date\n",
    "    part1_start_date = last_expiry - pd.Timedelta(days=days_diff)\n",
    "    \n",
    "    # Filter the data from part1_start_date to last_expiry (1st April to 25th April)\n",
    "    part1_df = df[(df['Date'] >= part1_start_date) & (df['Date'] <= last_expiry)].sort_values('Date')\n",
    "\n",
    "    # Calculate absolute move and percentage for Part 1\n",
    "    if not part1_df.empty:\n",
    "        start_close = part1_df.iloc[0]['Close']  # Close price on the first day (e.g., 1st April)\n",
    "        end_close = part1_df.iloc[-1]['Close']   # Close price on the last day (e.g., 25th April)\n",
    "        absolute_move_part1 = abs(end_close - start_close)\n",
    "        absolute_percentage_part1 = (absolute_move_part1 / start_close) * 100 if start_close else None\n",
    "    else:\n",
    "        absolute_move_part1 = absolute_percentage_part1 = None\n",
    "\n",
    "    # Return the results for Part 1\n",
    "    return {\n",
    "        'Buying Date': buying_date,\n",
    "        'Last Expiry': last_expiry,\n",
    "        'Next Expiry': next_expiry,\n",
    "        'Start Date ': part1_start_date,\n",
    "        'Absolute Move ': absolute_move_part1,\n",
    "        'Absolute % ': absolute_percentage_part1\n",
    "    }\n",
    "\n",
    "# Example usage\n",
    "df = pd.read_csv(\"RELIANCE.csv\")  # Replace with your actual file path\n",
    "result = calculate_move_part1(df, \"2025-05-02\")\n",
    "\n",
    "# Convert the result to a DataFrame for easy viewing\n",
    "result_df = pd.DataFrame([result])\n",
    "print(result_df)\n"
   ]
  },
  {
   "cell_type": "code",
   "execution_count": null,
   "id": "9b5addc9",
   "metadata": {},
   "outputs": [],
   "source": [
    "# Buying Date Last Expiry Next Expiry Start Date   Absolute Move   Absolute % \n",
    "# 0  2025-05-02  2025-04-24  2025-05-29  2025-03-28            26.5     2.078268"
   ]
  }
 ],
 "metadata": {
  "kernelspec": {
   "display_name": "base",
   "language": "python",
   "name": "python3"
  },
  "language_info": {
   "codemirror_mode": {
    "name": "ipython",
    "version": 3
   },
   "file_extension": ".py",
   "mimetype": "text/x-python",
   "name": "python",
   "nbconvert_exporter": "python",
   "pygments_lexer": "ipython3",
   "version": "3.12.7"
  }
 },
 "nbformat": 4,
 "nbformat_minor": 5
}
