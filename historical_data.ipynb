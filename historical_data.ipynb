{
 "cells": [
  {
   "cell_type": "code",
   "execution_count": 1,
   "id": "fcae8fad",
   "metadata": {},
   "outputs": [
    {
     "name": "stdout",
     "output_type": "stream",
     "text": [
      "YF.download() has changed argument auto_adjust default to True\n"
     ]
    },
    {
     "name": "stderr",
     "output_type": "stream",
     "text": [
      "[*********************100%***********************]  1 of 1 completed\n",
      "\n",
      "1 Failed download:\n",
      "['RELIANCE.NS']: YFRateLimitError('Too Many Requests. Rate limited. Try after a while.')\n"
     ]
    },
    {
     "name": "stdout",
     "output_type": "stream",
     "text": [
      "CSV file saved as: RELIANCE.NS.csv\n"
     ]
    }
   ],
   "source": [
    "import yfinance as yf\n",
    "import pandas as pd\n",
    "import datetime\n",
    "from pandas.tseries.offsets import MonthEnd\n",
    "\n",
    "# Function to fetch stock data\n",
    "def fetch_stock_data(stock_symbol, start_date, end_date):\n",
    "    # Fetch stock data from Yahoo Finance\n",
    "    stock_data = yf.download(stock_symbol, start=start_date, end=end_date)\n",
    "    stock_data.reset_index(inplace=True)\n",
    "    \n",
    "    # Rename columns to match required format\n",
    "    stock_data.rename(columns={\n",
    "        \"Date\": \"Date\",\n",
    "        \"Open\": \"Open\",\n",
    "        \"High\": \"High\",\n",
    "        \"Low\": \"Low\",\n",
    "        \"Close\": \"Close\",\n",
    "        \"Volume\": \"Volume\"\n",
    "    }, inplace=True)\n",
    "\n",
    "    # Keep only the required columns\n",
    "    stock_data = stock_data[[\"Date\", \"Open\", \"High\", \"Low\", \"Close\", \"Volume\"]]\n",
    "    \n",
    "    # Add Month column in YYYY-MM format\n",
    "    stock_data[\"Month\"] = stock_data[\"Date\"].dt.strftime(\"%Y-%m\")\n",
    "    \n",
    "    # Function to get the last Thursday of the month (expiry date)\n",
    "    def get_expiry(date):\n",
    "        last_day = date + MonthEnd(0)\n",
    "        while last_day.weekday() != 3:  # 3 represents Thursday\n",
    "            last_day -= pd.Timedelta(days=1)\n",
    "        return last_day\n",
    "\n",
    "    # Apply expiry date function\n",
    "    stock_data[\"Expiry\"] = stock_data[\"Date\"].apply(get_expiry)\n",
    "    \n",
    "    return stock_data\n",
    "\n",
    "# Fetch stock data for X_STOCK from Jan 1, 2024, to today's date\n",
    "stock_symbol = \"RELIANCE.NS\"\n",
    "start_date = \"2015-01-01\"\n",
    "end_date = datetime.datetime.today().strftime('%Y-%m-%d')\n",
    "\n",
    "# Fetch the data\n",
    "df = fetch_stock_data(stock_symbol, start_date, end_date)\n",
    "\n",
    "# Save the data to a CSV file\n",
    "output_file = f\"{stock_symbol}.csv\"\n",
    "df.to_csv(output_file, index=False)\n",
    "\n",
    "print(f\"CSV file saved as: {output_file}\")\n",
    "# this one is with normal"
   ]
  },
  {
   "cell_type": "code",
   "execution_count": null,
   "id": "bc043945",
   "metadata": {},
   "outputs": [],
   "source": []
  }
 ],
 "metadata": {
  "kernelspec": {
   "display_name": "base",
   "language": "python",
   "name": "python3"
  },
  "language_info": {
   "codemirror_mode": {
    "name": "ipython",
    "version": 3
   },
   "file_extension": ".py",
   "mimetype": "text/x-python",
   "name": "python",
   "nbconvert_exporter": "python",
   "pygments_lexer": "ipython3",
   "version": "3.12.7"
  }
 },
 "nbformat": 4,
 "nbformat_minor": 5
}
